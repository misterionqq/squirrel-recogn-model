{
 "cells": [
  {
   "cell_type": "code",
   "execution_count": 1,
   "metadata": {},
   "outputs": [
    {
     "name": "stdout",
     "output_type": "stream",
     "text": [
      "WARNING  'save_hybrid=True' will append ground truth to predictions for autolabelling.\n",
      "WARNING  'save_hybrid=True' will cause incorrect mAP.\n",
      "\n",
      "Ultralytics 8.3.66  Python-3.12.2 torch-2.5.0+cu124 CUDA:0 (NVIDIA GeForce RTX 3090, 24575MiB)\n",
      "Model summary (fused): 168 layers, 3,005,843 parameters, 0 gradients, 8.1 GFLOPs\n"
     ]
    },
    {
     "name": "stderr",
     "output_type": "stream",
     "text": [
      "\u001b[34m\u001b[1mval: \u001b[0mScanning Z:\\Coding\\datasets\\test\\labels... 106 images, 0 backgrounds, 0 corrupt: 100%|██████████| 106/106 [00:00<00:00, 513.03it/s]"
     ]
    },
    {
     "name": "stdout",
     "output_type": "stream",
     "text": [
      "\u001b[34m\u001b[1mval: \u001b[0mNew cache created: Z:\\Coding\\datasets\\test\\labels.cache\n"
     ]
    },
    {
     "name": "stderr",
     "output_type": "stream",
     "text": [
      "\n",
      "                 Class     Images  Instances      Box(P          R      mAP50  mAP50-95): 100%|██████████| 7/7 [00:03<00:00,  1.94it/s]\n"
     ]
    },
    {
     "name": "stdout",
     "output_type": "stream",
     "text": [
      "                   all        106        118          1      0.992      0.995      0.995\n",
      "Speed: 1.1ms preprocess, 1.9ms inference, 0.0ms loss, 2.0ms postprocess per image\n",
      "Saving runs\\detect\\yolov8n_squirrel_detection_test\\predictions.json...\n",
      "Results saved to \u001b[1mruns\\detect\\yolov8n_squirrel_detection_test\u001b[0m\n",
      "{'metrics/precision(B)': np.float64(1.0), 'metrics/recall(B)': np.float64(0.9915254237288136), 'metrics/mAP50(B)': np.float64(0.995), 'metrics/mAP50-95(B)': np.float64(0.9949999999999999), 'fitness': np.float64(0.995)}\n"
     ]
    }
   ],
   "source": [
    "from ultralytics import YOLO\n",
    "\n",
    "model = YOLO('runs/detect/yolov8n_squirrel_detection4/weights/best.pt')\n",
    "\n",
    "results = model.val(\n",
    "    data='data.yaml',\n",
    "    split='test', \n",
    "    save_json=True, \n",
    "    save_hybrid=True, \n",
    "    conf=0.25,\n",
    "    iou=0.7,\n",
    "    project='runs/detect',\n",
    "    name='yolov8n_squirrel_detection_test'\n",
    ")\n",
    "\n",
    "print(results.results_dict)\n"
   ]
  },
  {
   "cell_type": "code",
   "execution_count": 17,
   "metadata": {},
   "outputs": [
    {
     "name": "stdout",
     "output_type": "stream",
     "text": [
      "\n",
      "image 1/1 z:\\Coding\\squirrel-recogn-model\\test\\01RGSJProfile1.jpg: 256x416 1 squirrel, 5.0ms\n",
      "Speed: 0.5ms preprocess, 5.0ms inference, 1.0ms postprocess per image at shape (1, 3, 256, 416)\n",
      "Results saved to \u001b[1mruns\\detect\\yolov8n_squirrel_detection_predict35\u001b[0m\n",
      "\n",
      "image 1/1 z:\\Coding\\squirrel-recogn-model\\test\\0208_NWS_SGT-L-SQUIRRELS-1.jpg: 288x416 2 squirrels, 3.5ms\n",
      "Speed: 1.5ms preprocess, 3.5ms inference, 2.0ms postprocess per image at shape (1, 3, 288, 416)\n",
      "Results saved to \u001b[1mruns\\detect\\yolov8n_squirrel_detection_predict36\u001b[0m\n",
      "\n",
      "image 1/1 z:\\Coding\\squirrel-recogn-model\\test\\0_Grey-squirrel-at-Belleisle-Estate-Ayr.jpg: 416x416 1 squirrel, 4.0ms\n",
      "Speed: 1.0ms preprocess, 4.0ms inference, 3.0ms postprocess per image at shape (1, 3, 416, 416)\n",
      "Results saved to \u001b[1mruns\\detect\\yolov8n_squirrel_detection_predict37\u001b[0m\n",
      "\n",
      "image 1/1 z:\\Coding\\squirrel-recogn-model\\test\\0_Untitled-design-8.jpg: 416x416 1 squirrel, 6.5ms\n",
      "Speed: 1.0ms preprocess, 6.5ms inference, 2.5ms postprocess per image at shape (1, 3, 416, 416)\n",
      "Results saved to \u001b[1mruns\\detect\\yolov8n_squirrel_detection_predict38\u001b[0m\n",
      "\n",
      "image 1/1 z:\\Coding\\squirrel-recogn-model\\test\\1-groundsquirr.jpg: 256x416 1 squirrel, 8.9ms\n",
      "Speed: 1.0ms preprocess, 8.9ms inference, 2.0ms postprocess per image at shape (1, 3, 256, 416)\n",
      "Results saved to \u001b[1mruns\\detect\\yolov8n_squirrel_detection_predict39\u001b[0m\n",
      "\n",
      "image 1/1 z:\\Coding\\squirrel-recogn-model\\test\\1.-ground-squirrel-e1536162610323.jpg: 320x416 1 squirrel, 6.5ms\n",
      "Speed: 1.5ms preprocess, 6.5ms inference, 1.5ms postprocess per image at shape (1, 3, 320, 416)\n",
      "Results saved to \u001b[1mruns\\detect\\yolov8n_squirrel_detection_predict40\u001b[0m\n",
      "\n",
      "image 1/1 z:\\Coding\\squirrel-recogn-model\\test\\153.jpg: 384x416 1 squirrel, 8.4ms\n",
      "Speed: 2.0ms preprocess, 8.4ms inference, 3.5ms postprocess per image at shape (1, 3, 384, 416)\n",
      "Results saved to \u001b[1mruns\\detect\\yolov8n_squirrel_detection_predict41\u001b[0m\n",
      "\n",
      "image 1/1 z:\\Coding\\squirrel-recogn-model\\test\\2-20-14-winter-red-squirrel-img_02201.jpg: 416x288 2 squirrels, 8.9ms\n",
      "Speed: 1.0ms preprocess, 8.9ms inference, 3.5ms postprocess per image at shape (1, 3, 416, 288)\n",
      "Results saved to \u001b[1mruns\\detect\\yolov8n_squirrel_detection_predict42\u001b[0m\n",
      "\n",
      "image 1/1 z:\\Coding\\squirrel-recogn-model\\test\\220px-Eastern_Grey_Squirrel_in_Bunhill_Fields.jpg: 320x416 1 squirrel, 12.9ms\n",
      "Speed: 1.5ms preprocess, 12.9ms inference, 2.0ms postprocess per image at shape (1, 3, 320, 416)\n",
      "Results saved to \u001b[1mruns\\detect\\yolov8n_squirrel_detection_predict43\u001b[0m\n",
      "\n",
      "image 1/1 z:\\Coding\\squirrel-recogn-model\\test\\220px-Fox_squirrel_IndyJPG.jpg: 288x416 1 squirrel, 11.4ms\n",
      "Speed: 2.0ms preprocess, 11.4ms inference, 3.0ms postprocess per image at shape (1, 3, 288, 416)\n",
      "Results saved to \u001b[1mruns\\detect\\yolov8n_squirrel_detection_predict44\u001b[0m\n"
     ]
    }
   ],
   "source": [
    "from ultralytics import YOLO\n",
    "from PIL import Image\n",
    "import glob\n",
    "\n",
    "model = YOLO('runs/detect/yolov8n_squirrel_detection4/weights/best.pt')\n",
    "\n",
    "#test_images_path = 'images/test/images/*.jpg'\n",
    "test_images_path = 'test/*.jpg'\n",
    "\n",
    "test_images = glob.glob(test_images_path)\n",
    "\n",
    "for i, img_path in enumerate(test_images[:10]):\n",
    "    results = model.predict(\n",
    "        source=img_path,\n",
    "        save=True,\n",
    "        conf=0.25,\n",
    "        iou=0.7,\n",
    "        project='runs/detect',\n",
    "        name='yolov8n_squirrel_detection_predict',\n",
    "        save_txt=False,\n",
    "        save_conf=False\n",
    "    )\n",
    "\n",
    "    img_with_boxes = results[0].plot()\n",
    "    Image.fromarray(img_with_boxes).show() "
   ]
  }
 ],
 "metadata": {
  "kernelspec": {
   "display_name": "my-python3-kernel",
   "language": "python",
   "name": "my-python3-kernel"
  },
  "language_info": {
   "codemirror_mode": {
    "name": "ipython",
    "version": 3
   },
   "file_extension": ".py",
   "mimetype": "text/x-python",
   "name": "python",
   "nbconvert_exporter": "python",
   "pygments_lexer": "ipython3",
   "version": "3.12.2"
  }
 },
 "nbformat": 4,
 "nbformat_minor": 2
}
