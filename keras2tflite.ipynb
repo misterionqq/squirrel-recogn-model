{
 "cells": [
  {
   "cell_type": "code",
   "execution_count": 1,
   "metadata": {},
   "outputs": [
    {
     "name": "stdout",
     "output_type": "stream",
     "text": [
      "TensorFlow Version: 2.16.2\n",
      "Keras Version: 3.8.0\n"
     ]
    }
   ],
   "source": [
    "import tensorflow as tf\n",
    "import pathlib\n",
    "import os\n",
    "import shutil\n",
    "\n",
    "print(f\"TensorFlow Version: {tf.__version__}\")\n",
    "print(f\"Keras Version: {tf.keras.__version__}\")"
   ]
  },
  {
   "cell_type": "code",
   "execution_count": 2,
   "metadata": {},
   "outputs": [],
   "source": [
    "trained_keras_model_filename = 'modelv4.1.keras'\n",
    "export_dir = 'temp_dir'\n",
    "tflite_model_filename = 'modelv4.1.tflite'\n",
    "\n",
    "IMG_HEIGHT = 224\n",
    "IMG_WIDTH = 224\n",
    "NUM_CLASSES = 6\n",
    "IMG_SHAPE = (IMG_HEIGHT, IMG_WIDTH, 3)"
   ]
  },
  {
   "cell_type": "code",
   "execution_count": 3,
   "metadata": {},
   "outputs": [
    {
     "name": "stderr",
     "output_type": "stream",
     "text": [
      "2025-04-09 18:55:09.055956: I metal_plugin/src/device/metal_device.cc:1154] Metal device set to: Apple M2 Max\n",
      "2025-04-09 18:55:09.055998: I metal_plugin/src/device/metal_device.cc:296] systemMemory: 32.00 GB\n",
      "2025-04-09 18:55:09.056004: I metal_plugin/src/device/metal_device.cc:313] maxCacheSize: 10.67 GB\n",
      "2025-04-09 18:55:09.056026: I tensorflow/core/common_runtime/pluggable_device/pluggable_device_factory.cc:305] Could not identify NUMA node of platform GPU ID 0, defaulting to 0. Your kernel may not have been built with NUMA support.\n",
      "2025-04-09 18:55:09.056043: I tensorflow/core/common_runtime/pluggable_device/pluggable_device_factory.cc:271] Created TensorFlow device (/job:localhost/replica:0/task:0/device:GPU:0 with 0 MB memory) -> physical PluggableDevice (device: 0, name: METAL, pci bus id: <undefined>)\n"
     ]
    }
   ],
   "source": [
    "keras_model_path = pathlib.Path(trained_keras_model_filename)\n",
    "full_trained_model = tf.keras.models.load_model(keras_model_path, compile=False)"
   ]
  },
  {
   "cell_type": "code",
   "execution_count": 4,
   "metadata": {},
   "outputs": [],
   "source": [
    "preprocess_input = tf.keras.applications.mobilenet_v2.preprocess_input\n",
    "base_model_inference = tf.keras.applications.MobileNetV2(input_shape=IMG_SHAPE,\n",
    "                                                         include_top=False,\n",
    "                                                         weights=None)\n",
    "\n",
    "inputs_inference = tf.keras.Input(shape=IMG_SHAPE, name=\"input_layer\")\n",
    "\n",
    "x_inf = preprocess_input(inputs_inference)\n",
    "x_inf = base_model_inference(x_inf, training=False) "
   ]
  },
  {
   "cell_type": "code",
   "execution_count": 5,
   "metadata": {},
   "outputs": [],
   "source": [
    "x_inf = tf.keras.layers.GlobalAveragePooling2D(name=\"avg_pool\")(x_inf)\n",
    "x_inf = tf.keras.layers.Dropout(0.3, name=\"dropout\")(x_inf)\n",
    "outputs_inference = tf.keras.layers.Dense(NUM_CLASSES, activation='softmax', name=\"predictions\")(x_inf)\n",
    "inference_model = tf.keras.Model(inputs_inference, outputs_inference, name=\"squirrel_inference_model\")"
   ]
  },
  {
   "cell_type": "code",
   "execution_count": 6,
   "metadata": {},
   "outputs": [
    {
     "data": {
      "text/html": [
       "<pre style=\"white-space:pre;overflow-x:auto;line-height:normal;font-family:Menlo,'DejaVu Sans Mono',consolas,'Courier New',monospace\"><span style=\"font-weight: bold\">Model: \"squirrel_inference_model\"</span>\n",
       "</pre>\n"
      ],
      "text/plain": [
       "\u001b[1mModel: \"squirrel_inference_model\"\u001b[0m\n"
      ]
     },
     "metadata": {},
     "output_type": "display_data"
    },
    {
     "data": {
      "text/html": [
       "<pre style=\"white-space:pre;overflow-x:auto;line-height:normal;font-family:Menlo,'DejaVu Sans Mono',consolas,'Courier New',monospace\">┏━━━━━━━━━━━━━━━━━━━━━━━━━━━━━━━━━┳━━━━━━━━━━━━━━━━━━━━━━━━┳━━━━━━━━━━━━━━━┓\n",
       "┃<span style=\"font-weight: bold\"> Layer (type)                    </span>┃<span style=\"font-weight: bold\"> Output Shape           </span>┃<span style=\"font-weight: bold\">       Param # </span>┃\n",
       "┡━━━━━━━━━━━━━━━━━━━━━━━━━━━━━━━━━╇━━━━━━━━━━━━━━━━━━━━━━━━╇━━━━━━━━━━━━━━━┩\n",
       "│ input_layer (<span style=\"color: #0087ff; text-decoration-color: #0087ff\">InputLayer</span>)        │ (<span style=\"color: #00d7ff; text-decoration-color: #00d7ff\">None</span>, <span style=\"color: #00af00; text-decoration-color: #00af00\">224</span>, <span style=\"color: #00af00; text-decoration-color: #00af00\">224</span>, <span style=\"color: #00af00; text-decoration-color: #00af00\">3</span>)    │             <span style=\"color: #00af00; text-decoration-color: #00af00\">0</span> │\n",
       "├─────────────────────────────────┼────────────────────────┼───────────────┤\n",
       "│ true_divide (<span style=\"color: #0087ff; text-decoration-color: #0087ff\">TrueDivide</span>)        │ (<span style=\"color: #00d7ff; text-decoration-color: #00d7ff\">None</span>, <span style=\"color: #00af00; text-decoration-color: #00af00\">224</span>, <span style=\"color: #00af00; text-decoration-color: #00af00\">224</span>, <span style=\"color: #00af00; text-decoration-color: #00af00\">3</span>)    │             <span style=\"color: #00af00; text-decoration-color: #00af00\">0</span> │\n",
       "├─────────────────────────────────┼────────────────────────┼───────────────┤\n",
       "│ subtract (<span style=\"color: #0087ff; text-decoration-color: #0087ff\">Subtract</span>)             │ (<span style=\"color: #00d7ff; text-decoration-color: #00d7ff\">None</span>, <span style=\"color: #00af00; text-decoration-color: #00af00\">224</span>, <span style=\"color: #00af00; text-decoration-color: #00af00\">224</span>, <span style=\"color: #00af00; text-decoration-color: #00af00\">3</span>)    │             <span style=\"color: #00af00; text-decoration-color: #00af00\">0</span> │\n",
       "├─────────────────────────────────┼────────────────────────┼───────────────┤\n",
       "│ mobilenetv2_1.00_224            │ (<span style=\"color: #00d7ff; text-decoration-color: #00d7ff\">None</span>, <span style=\"color: #00af00; text-decoration-color: #00af00\">7</span>, <span style=\"color: #00af00; text-decoration-color: #00af00\">7</span>, <span style=\"color: #00af00; text-decoration-color: #00af00\">1280</span>)     │     <span style=\"color: #00af00; text-decoration-color: #00af00\">2,257,984</span> │\n",
       "│ (<span style=\"color: #0087ff; text-decoration-color: #0087ff\">Functional</span>)                    │                        │               │\n",
       "├─────────────────────────────────┼────────────────────────┼───────────────┤\n",
       "│ avg_pool                        │ (<span style=\"color: #00d7ff; text-decoration-color: #00d7ff\">None</span>, <span style=\"color: #00af00; text-decoration-color: #00af00\">1280</span>)           │             <span style=\"color: #00af00; text-decoration-color: #00af00\">0</span> │\n",
       "│ (<span style=\"color: #0087ff; text-decoration-color: #0087ff\">GlobalAveragePooling2D</span>)        │                        │               │\n",
       "├─────────────────────────────────┼────────────────────────┼───────────────┤\n",
       "│ dropout (<span style=\"color: #0087ff; text-decoration-color: #0087ff\">Dropout</span>)               │ (<span style=\"color: #00d7ff; text-decoration-color: #00d7ff\">None</span>, <span style=\"color: #00af00; text-decoration-color: #00af00\">1280</span>)           │             <span style=\"color: #00af00; text-decoration-color: #00af00\">0</span> │\n",
       "├─────────────────────────────────┼────────────────────────┼───────────────┤\n",
       "│ predictions (<span style=\"color: #0087ff; text-decoration-color: #0087ff\">Dense</span>)             │ (<span style=\"color: #00d7ff; text-decoration-color: #00d7ff\">None</span>, <span style=\"color: #00af00; text-decoration-color: #00af00\">6</span>)              │         <span style=\"color: #00af00; text-decoration-color: #00af00\">7,686</span> │\n",
       "└─────────────────────────────────┴────────────────────────┴───────────────┘\n",
       "</pre>\n"
      ],
      "text/plain": [
       "┏━━━━━━━━━━━━━━━━━━━━━━━━━━━━━━━━━┳━━━━━━━━━━━━━━━━━━━━━━━━┳━━━━━━━━━━━━━━━┓\n",
       "┃\u001b[1m \u001b[0m\u001b[1mLayer (type)                   \u001b[0m\u001b[1m \u001b[0m┃\u001b[1m \u001b[0m\u001b[1mOutput Shape          \u001b[0m\u001b[1m \u001b[0m┃\u001b[1m \u001b[0m\u001b[1m      Param #\u001b[0m\u001b[1m \u001b[0m┃\n",
       "┡━━━━━━━━━━━━━━━━━━━━━━━━━━━━━━━━━╇━━━━━━━━━━━━━━━━━━━━━━━━╇━━━━━━━━━━━━━━━┩\n",
       "│ input_layer (\u001b[38;5;33mInputLayer\u001b[0m)        │ (\u001b[38;5;45mNone\u001b[0m, \u001b[38;5;34m224\u001b[0m, \u001b[38;5;34m224\u001b[0m, \u001b[38;5;34m3\u001b[0m)    │             \u001b[38;5;34m0\u001b[0m │\n",
       "├─────────────────────────────────┼────────────────────────┼───────────────┤\n",
       "│ true_divide (\u001b[38;5;33mTrueDivide\u001b[0m)        │ (\u001b[38;5;45mNone\u001b[0m, \u001b[38;5;34m224\u001b[0m, \u001b[38;5;34m224\u001b[0m, \u001b[38;5;34m3\u001b[0m)    │             \u001b[38;5;34m0\u001b[0m │\n",
       "├─────────────────────────────────┼────────────────────────┼───────────────┤\n",
       "│ subtract (\u001b[38;5;33mSubtract\u001b[0m)             │ (\u001b[38;5;45mNone\u001b[0m, \u001b[38;5;34m224\u001b[0m, \u001b[38;5;34m224\u001b[0m, \u001b[38;5;34m3\u001b[0m)    │             \u001b[38;5;34m0\u001b[0m │\n",
       "├─────────────────────────────────┼────────────────────────┼───────────────┤\n",
       "│ mobilenetv2_1.00_224            │ (\u001b[38;5;45mNone\u001b[0m, \u001b[38;5;34m7\u001b[0m, \u001b[38;5;34m7\u001b[0m, \u001b[38;5;34m1280\u001b[0m)     │     \u001b[38;5;34m2,257,984\u001b[0m │\n",
       "│ (\u001b[38;5;33mFunctional\u001b[0m)                    │                        │               │\n",
       "├─────────────────────────────────┼────────────────────────┼───────────────┤\n",
       "│ avg_pool                        │ (\u001b[38;5;45mNone\u001b[0m, \u001b[38;5;34m1280\u001b[0m)           │             \u001b[38;5;34m0\u001b[0m │\n",
       "│ (\u001b[38;5;33mGlobalAveragePooling2D\u001b[0m)        │                        │               │\n",
       "├─────────────────────────────────┼────────────────────────┼───────────────┤\n",
       "│ dropout (\u001b[38;5;33mDropout\u001b[0m)               │ (\u001b[38;5;45mNone\u001b[0m, \u001b[38;5;34m1280\u001b[0m)           │             \u001b[38;5;34m0\u001b[0m │\n",
       "├─────────────────────────────────┼────────────────────────┼───────────────┤\n",
       "│ predictions (\u001b[38;5;33mDense\u001b[0m)             │ (\u001b[38;5;45mNone\u001b[0m, \u001b[38;5;34m6\u001b[0m)              │         \u001b[38;5;34m7,686\u001b[0m │\n",
       "└─────────────────────────────────┴────────────────────────┴───────────────┘\n"
      ]
     },
     "metadata": {},
     "output_type": "display_data"
    },
    {
     "data": {
      "text/html": [
       "<pre style=\"white-space:pre;overflow-x:auto;line-height:normal;font-family:Menlo,'DejaVu Sans Mono',consolas,'Courier New',monospace\"><span style=\"font-weight: bold\"> Total params: </span><span style=\"color: #00af00; text-decoration-color: #00af00\">2,265,670</span> (8.64 MB)\n",
       "</pre>\n"
      ],
      "text/plain": [
       "\u001b[1m Total params: \u001b[0m\u001b[38;5;34m2,265,670\u001b[0m (8.64 MB)\n"
      ]
     },
     "metadata": {},
     "output_type": "display_data"
    },
    {
     "data": {
      "text/html": [
       "<pre style=\"white-space:pre;overflow-x:auto;line-height:normal;font-family:Menlo,'DejaVu Sans Mono',consolas,'Courier New',monospace\"><span style=\"font-weight: bold\"> Trainable params: </span><span style=\"color: #00af00; text-decoration-color: #00af00\">2,231,558</span> (8.51 MB)\n",
       "</pre>\n"
      ],
      "text/plain": [
       "\u001b[1m Trainable params: \u001b[0m\u001b[38;5;34m2,231,558\u001b[0m (8.51 MB)\n"
      ]
     },
     "metadata": {},
     "output_type": "display_data"
    },
    {
     "data": {
      "text/html": [
       "<pre style=\"white-space:pre;overflow-x:auto;line-height:normal;font-family:Menlo,'DejaVu Sans Mono',consolas,'Courier New',monospace\"><span style=\"font-weight: bold\"> Non-trainable params: </span><span style=\"color: #00af00; text-decoration-color: #00af00\">34,112</span> (133.25 KB)\n",
       "</pre>\n"
      ],
      "text/plain": [
       "\u001b[1m Non-trainable params: \u001b[0m\u001b[38;5;34m34,112\u001b[0m (133.25 KB)\n"
      ]
     },
     "metadata": {},
     "output_type": "display_data"
    }
   ],
   "source": [
    "inference_model.summary()"
   ]
  },
  {
   "cell_type": "code",
   "execution_count": 7,
   "metadata": {},
   "outputs": [],
   "source": [
    "inference_model.set_weights(full_trained_model.get_weights())"
   ]
  },
  {
   "cell_type": "code",
   "execution_count": 8,
   "metadata": {},
   "outputs": [
    {
     "name": "stdout",
     "output_type": "stream",
     "text": [
      "INFO:tensorflow:Assets written to: temp_dir/assets\n"
     ]
    },
    {
     "name": "stderr",
     "output_type": "stream",
     "text": [
      "INFO:tensorflow:Assets written to: temp_dir/assets\n"
     ]
    },
    {
     "name": "stdout",
     "output_type": "stream",
     "text": [
      "Saved artifact at 'temp_dir'. The following endpoints are available:\n",
      "\n",
      "* Endpoint 'serve'\n",
      "  args_0 (POSITIONAL_ONLY): TensorSpec(shape=(None, 224, 224, 3), dtype=tf.float32, name='input_layer')\n",
      "Output Type:\n",
      "  TensorSpec(shape=(None, 6), dtype=tf.float32, name=None)\n",
      "Captures:\n",
      "  14530046352: TensorSpec(shape=(), dtype=tf.resource, name=None)\n",
      "  14530048848: TensorSpec(shape=(), dtype=tf.resource, name=None)\n",
      "  14530049232: TensorSpec(shape=(), dtype=tf.resource, name=None)\n",
      "  14530049040: TensorSpec(shape=(), dtype=tf.resource, name=None)\n",
      "  14530048080: TensorSpec(shape=(), dtype=tf.resource, name=None)\n",
      "  14530050384: TensorSpec(shape=(), dtype=tf.resource, name=None)\n",
      "  14530050768: TensorSpec(shape=(), dtype=tf.resource, name=None)\n",
      "  14530051152: TensorSpec(shape=(), dtype=tf.resource, name=None)\n",
      "  14530050960: TensorSpec(shape=(), dtype=tf.resource, name=None)\n",
      "  14530044816: TensorSpec(shape=(), dtype=tf.resource, name=None)\n",
      "  14530049616: TensorSpec(shape=(), dtype=tf.resource, name=None)\n",
      "  14548009616: TensorSpec(shape=(), dtype=tf.resource, name=None)\n",
      "  14548010000: TensorSpec(shape=(), dtype=tf.resource, name=None)\n",
      "  14530051920: TensorSpec(shape=(), dtype=tf.resource, name=None)\n",
      "  14530048464: TensorSpec(shape=(), dtype=tf.resource, name=None)\n",
      "  14548011152: TensorSpec(shape=(), dtype=tf.resource, name=None)\n",
      "  14548011536: TensorSpec(shape=(), dtype=tf.resource, name=None)\n",
      "  14548011920: TensorSpec(shape=(), dtype=tf.resource, name=None)\n",
      "  14548011728: TensorSpec(shape=(), dtype=tf.resource, name=None)\n",
      "  14548009040: TensorSpec(shape=(), dtype=tf.resource, name=None)\n",
      "  14548013072: TensorSpec(shape=(), dtype=tf.resource, name=None)\n",
      "  14548013456: TensorSpec(shape=(), dtype=tf.resource, name=None)\n",
      "  14548013840: TensorSpec(shape=(), dtype=tf.resource, name=None)\n",
      "  14548013648: TensorSpec(shape=(), dtype=tf.resource, name=None)\n",
      "  14548009424: TensorSpec(shape=(), dtype=tf.resource, name=None)\n",
      "  14548014992: TensorSpec(shape=(), dtype=tf.resource, name=None)\n",
      "  14548015376: TensorSpec(shape=(), dtype=tf.resource, name=None)\n",
      "  14548015760: TensorSpec(shape=(), dtype=tf.resource, name=None)\n",
      "  14548015568: TensorSpec(shape=(), dtype=tf.resource, name=None)\n",
      "  14548010768: TensorSpec(shape=(), dtype=tf.resource, name=None)\n",
      "  14548016912: TensorSpec(shape=(), dtype=tf.resource, name=None)\n",
      "  14548017296: TensorSpec(shape=(), dtype=tf.resource, name=None)\n",
      "  14548017680: TensorSpec(shape=(), dtype=tf.resource, name=None)\n",
      "  14548017488: TensorSpec(shape=(), dtype=tf.resource, name=None)\n",
      "  14548012688: TensorSpec(shape=(), dtype=tf.resource, name=None)\n",
      "  14548018832: TensorSpec(shape=(), dtype=tf.resource, name=None)\n",
      "  14548019216: TensorSpec(shape=(), dtype=tf.resource, name=None)\n",
      "  14548019600: TensorSpec(shape=(), dtype=tf.resource, name=None)\n",
      "  14548019408: TensorSpec(shape=(), dtype=tf.resource, name=None)\n",
      "  14548014608: TensorSpec(shape=(), dtype=tf.resource, name=None)\n",
      "  14548020752: TensorSpec(shape=(), dtype=tf.resource, name=None)\n",
      "  14548021136: TensorSpec(shape=(), dtype=tf.resource, name=None)\n",
      "  14548021520: TensorSpec(shape=(), dtype=tf.resource, name=None)\n",
      "  14548021328: TensorSpec(shape=(), dtype=tf.resource, name=None)\n",
      "  14548016528: TensorSpec(shape=(), dtype=tf.resource, name=None)\n",
      "  14548022672: TensorSpec(shape=(), dtype=tf.resource, name=None)\n",
      "  14548023056: TensorSpec(shape=(), dtype=tf.resource, name=None)\n",
      "  14548023440: TensorSpec(shape=(), dtype=tf.resource, name=None)\n",
      "  14548023248: TensorSpec(shape=(), dtype=tf.resource, name=None)\n",
      "  14548018448: TensorSpec(shape=(), dtype=tf.resource, name=None)\n",
      "  14548024592: TensorSpec(shape=(), dtype=tf.resource, name=None)\n",
      "  14548025168: TensorSpec(shape=(), dtype=tf.resource, name=None)\n",
      "  14548023824: TensorSpec(shape=(), dtype=tf.resource, name=None)\n",
      "  14548024976: TensorSpec(shape=(), dtype=tf.resource, name=None)\n",
      "  14548022288: TensorSpec(shape=(), dtype=tf.resource, name=None)\n",
      "  14548304144: TensorSpec(shape=(), dtype=tf.resource, name=None)\n",
      "  14548305488: TensorSpec(shape=(), dtype=tf.resource, name=None)\n",
      "  14548305872: TensorSpec(shape=(), dtype=tf.resource, name=None)\n",
      "  14548305680: TensorSpec(shape=(), dtype=tf.resource, name=None)\n",
      "  14548305104: TensorSpec(shape=(), dtype=tf.resource, name=None)\n",
      "  14548307024: TensorSpec(shape=(), dtype=tf.resource, name=None)\n",
      "  14548307408: TensorSpec(shape=(), dtype=tf.resource, name=None)\n",
      "  14548307792: TensorSpec(shape=(), dtype=tf.resource, name=None)\n",
      "  14548307600: TensorSpec(shape=(), dtype=tf.resource, name=None)\n",
      "  14548304336: TensorSpec(shape=(), dtype=tf.resource, name=None)\n",
      "  14548308944: TensorSpec(shape=(), dtype=tf.resource, name=None)\n",
      "  14548309328: TensorSpec(shape=(), dtype=tf.resource, name=None)\n",
      "  14548309712: TensorSpec(shape=(), dtype=tf.resource, name=None)\n",
      "  14548309520: TensorSpec(shape=(), dtype=tf.resource, name=None)\n",
      "  14548304528: TensorSpec(shape=(), dtype=tf.resource, name=None)\n",
      "  14548310864: TensorSpec(shape=(), dtype=tf.resource, name=None)\n",
      "  14548311248: TensorSpec(shape=(), dtype=tf.resource, name=None)\n",
      "  14548311632: TensorSpec(shape=(), dtype=tf.resource, name=None)\n",
      "  14548311440: TensorSpec(shape=(), dtype=tf.resource, name=None)\n",
      "  14548306640: TensorSpec(shape=(), dtype=tf.resource, name=None)\n",
      "  14548312784: TensorSpec(shape=(), dtype=tf.resource, name=None)\n",
      "  14548313168: TensorSpec(shape=(), dtype=tf.resource, name=None)\n",
      "  14548313552: TensorSpec(shape=(), dtype=tf.resource, name=None)\n",
      "  14548313360: TensorSpec(shape=(), dtype=tf.resource, name=None)\n",
      "  14548308560: TensorSpec(shape=(), dtype=tf.resource, name=None)\n",
      "  14548314704: TensorSpec(shape=(), dtype=tf.resource, name=None)\n",
      "  14548315088: TensorSpec(shape=(), dtype=tf.resource, name=None)\n",
      "  14548315472: TensorSpec(shape=(), dtype=tf.resource, name=None)\n",
      "  14548315280: TensorSpec(shape=(), dtype=tf.resource, name=None)\n",
      "  14548310480: TensorSpec(shape=(), dtype=tf.resource, name=None)\n",
      "  14548316624: TensorSpec(shape=(), dtype=tf.resource, name=None)\n",
      "  14548317008: TensorSpec(shape=(), dtype=tf.resource, name=None)\n",
      "  14548317392: TensorSpec(shape=(), dtype=tf.resource, name=None)\n",
      "  14548317200: TensorSpec(shape=(), dtype=tf.resource, name=None)\n",
      "  14548312400: TensorSpec(shape=(), dtype=tf.resource, name=None)\n",
      "  14548318544: TensorSpec(shape=(), dtype=tf.resource, name=None)\n",
      "  14548318928: TensorSpec(shape=(), dtype=tf.resource, name=None)\n",
      "  14548319312: TensorSpec(shape=(), dtype=tf.resource, name=None)\n",
      "  14548319120: TensorSpec(shape=(), dtype=tf.resource, name=None)\n",
      "  14548314320: TensorSpec(shape=(), dtype=tf.resource, name=None)\n",
      "  14548317776: TensorSpec(shape=(), dtype=tf.resource, name=None)\n",
      "  14602830480: TensorSpec(shape=(), dtype=tf.resource, name=None)\n",
      "  14602829904: TensorSpec(shape=(), dtype=tf.resource, name=None)\n",
      "  14548320080: TensorSpec(shape=(), dtype=tf.resource, name=None)\n",
      "  14548316240: TensorSpec(shape=(), dtype=tf.resource, name=None)\n",
      "  14602832016: TensorSpec(shape=(), dtype=tf.resource, name=None)\n",
      "  14602832400: TensorSpec(shape=(), dtype=tf.resource, name=None)\n",
      "  14602832784: TensorSpec(shape=(), dtype=tf.resource, name=None)\n",
      "  14602832592: TensorSpec(shape=(), dtype=tf.resource, name=None)\n",
      "  14602830096: TensorSpec(shape=(), dtype=tf.resource, name=None)\n",
      "  14602833936: TensorSpec(shape=(), dtype=tf.resource, name=None)\n",
      "  14602834320: TensorSpec(shape=(), dtype=tf.resource, name=None)\n",
      "  14602834704: TensorSpec(shape=(), dtype=tf.resource, name=None)\n",
      "  14602834512: TensorSpec(shape=(), dtype=tf.resource, name=None)\n",
      "  14602830672: TensorSpec(shape=(), dtype=tf.resource, name=None)\n",
      "  14602835856: TensorSpec(shape=(), dtype=tf.resource, name=None)\n",
      "  14602836240: TensorSpec(shape=(), dtype=tf.resource, name=None)\n",
      "  14602836624: TensorSpec(shape=(), dtype=tf.resource, name=None)\n",
      "  14602836432: TensorSpec(shape=(), dtype=tf.resource, name=None)\n",
      "  14602831632: TensorSpec(shape=(), dtype=tf.resource, name=None)\n",
      "  14602837776: TensorSpec(shape=(), dtype=tf.resource, name=None)\n",
      "  14602838160: TensorSpec(shape=(), dtype=tf.resource, name=None)\n",
      "  14602838544: TensorSpec(shape=(), dtype=tf.resource, name=None)\n",
      "  14602838352: TensorSpec(shape=(), dtype=tf.resource, name=None)\n",
      "  14602833552: TensorSpec(shape=(), dtype=tf.resource, name=None)\n",
      "  14602839696: TensorSpec(shape=(), dtype=tf.resource, name=None)\n",
      "  14602840080: TensorSpec(shape=(), dtype=tf.resource, name=None)\n",
      "  14602840464: TensorSpec(shape=(), dtype=tf.resource, name=None)\n",
      "  14602840272: TensorSpec(shape=(), dtype=tf.resource, name=None)\n",
      "  14602835472: TensorSpec(shape=(), dtype=tf.resource, name=None)\n",
      "  14602841616: TensorSpec(shape=(), dtype=tf.resource, name=None)\n",
      "  14602842000: TensorSpec(shape=(), dtype=tf.resource, name=None)\n",
      "  14602842384: TensorSpec(shape=(), dtype=tf.resource, name=None)\n",
      "  14602842192: TensorSpec(shape=(), dtype=tf.resource, name=None)\n",
      "  14602837392: TensorSpec(shape=(), dtype=tf.resource, name=None)\n",
      "  14602843536: TensorSpec(shape=(), dtype=tf.resource, name=None)\n",
      "  14602843920: TensorSpec(shape=(), dtype=tf.resource, name=None)\n",
      "  14602844304: TensorSpec(shape=(), dtype=tf.resource, name=None)\n",
      "  14602844112: TensorSpec(shape=(), dtype=tf.resource, name=None)\n",
      "  14602839312: TensorSpec(shape=(), dtype=tf.resource, name=None)\n",
      "  14602845456: TensorSpec(shape=(), dtype=tf.resource, name=None)\n",
      "  14602846032: TensorSpec(shape=(), dtype=tf.resource, name=None)\n",
      "  14602844688: TensorSpec(shape=(), dtype=tf.resource, name=None)\n",
      "  14602845840: TensorSpec(shape=(), dtype=tf.resource, name=None)\n",
      "  14602843152: TensorSpec(shape=(), dtype=tf.resource, name=None)\n",
      "  14603223312: TensorSpec(shape=(), dtype=tf.resource, name=None)\n",
      "  14603224656: TensorSpec(shape=(), dtype=tf.resource, name=None)\n",
      "  14603225040: TensorSpec(shape=(), dtype=tf.resource, name=None)\n",
      "  14603224848: TensorSpec(shape=(), dtype=tf.resource, name=None)\n",
      "  14603223504: TensorSpec(shape=(), dtype=tf.resource, name=None)\n",
      "  14603226192: TensorSpec(shape=(), dtype=tf.resource, name=None)\n",
      "  14603226576: TensorSpec(shape=(), dtype=tf.resource, name=None)\n",
      "  14603226960: TensorSpec(shape=(), dtype=tf.resource, name=None)\n",
      "  14603226768: TensorSpec(shape=(), dtype=tf.resource, name=None)\n",
      "  14603224080: TensorSpec(shape=(), dtype=tf.resource, name=None)\n",
      "  14603228112: TensorSpec(shape=(), dtype=tf.resource, name=None)\n",
      "  14603228496: TensorSpec(shape=(), dtype=tf.resource, name=None)\n",
      "  14603228880: TensorSpec(shape=(), dtype=tf.resource, name=None)\n",
      "  14603228688: TensorSpec(shape=(), dtype=tf.resource, name=None)\n",
      "  14603224272: TensorSpec(shape=(), dtype=tf.resource, name=None)\n",
      "  14603230032: TensorSpec(shape=(), dtype=tf.resource, name=None)\n",
      "  14603230416: TensorSpec(shape=(), dtype=tf.resource, name=None)\n",
      "  14603230800: TensorSpec(shape=(), dtype=tf.resource, name=None)\n",
      "  14603230608: TensorSpec(shape=(), dtype=tf.resource, name=None)\n",
      "  14603225808: TensorSpec(shape=(), dtype=tf.resource, name=None)\n",
      "  14603231952: TensorSpec(shape=(), dtype=tf.resource, name=None)\n",
      "  14603232336: TensorSpec(shape=(), dtype=tf.resource, name=None)\n",
      "  14603232720: TensorSpec(shape=(), dtype=tf.resource, name=None)\n",
      "  14603232528: TensorSpec(shape=(), dtype=tf.resource, name=None)\n",
      "  14603227728: TensorSpec(shape=(), dtype=tf.resource, name=None)\n",
      "  14603233872: TensorSpec(shape=(), dtype=tf.resource, name=None)\n",
      "  14603234256: TensorSpec(shape=(), dtype=tf.resource, name=None)\n",
      "  14603234640: TensorSpec(shape=(), dtype=tf.resource, name=None)\n",
      "  14603234448: TensorSpec(shape=(), dtype=tf.resource, name=None)\n",
      "  14603229648: TensorSpec(shape=(), dtype=tf.resource, name=None)\n",
      "  14603235792: TensorSpec(shape=(), dtype=tf.resource, name=None)\n",
      "  14603236176: TensorSpec(shape=(), dtype=tf.resource, name=None)\n",
      "  14603236560: TensorSpec(shape=(), dtype=tf.resource, name=None)\n",
      "  14603236368: TensorSpec(shape=(), dtype=tf.resource, name=None)\n",
      "  14603231568: TensorSpec(shape=(), dtype=tf.resource, name=None)\n",
      "  14603237712: TensorSpec(shape=(), dtype=tf.resource, name=None)\n",
      "  14603238096: TensorSpec(shape=(), dtype=tf.resource, name=None)\n",
      "  14603238480: TensorSpec(shape=(), dtype=tf.resource, name=None)\n",
      "  14603238288: TensorSpec(shape=(), dtype=tf.resource, name=None)\n",
      "  14603233488: TensorSpec(shape=(), dtype=tf.resource, name=None)\n",
      "  14603236944: TensorSpec(shape=(), dtype=tf.resource, name=None)\n",
      "  14603583760: TensorSpec(shape=(), dtype=tf.resource, name=None)\n",
      "  14603584528: TensorSpec(shape=(), dtype=tf.resource, name=None)\n",
      "  14603239248: TensorSpec(shape=(), dtype=tf.resource, name=None)\n",
      "  14603235408: TensorSpec(shape=(), dtype=tf.resource, name=None)\n",
      "  14603585680: TensorSpec(shape=(), dtype=tf.resource, name=None)\n",
      "  14603586064: TensorSpec(shape=(), dtype=tf.resource, name=None)\n",
      "  14603586448: TensorSpec(shape=(), dtype=tf.resource, name=None)\n",
      "  14603586256: TensorSpec(shape=(), dtype=tf.resource, name=None)\n",
      "  14603584336: TensorSpec(shape=(), dtype=tf.resource, name=None)\n",
      "  14603587600: TensorSpec(shape=(), dtype=tf.resource, name=None)\n",
      "  14603587984: TensorSpec(shape=(), dtype=tf.resource, name=None)\n",
      "  14603588368: TensorSpec(shape=(), dtype=tf.resource, name=None)\n",
      "  14603588176: TensorSpec(shape=(), dtype=tf.resource, name=None)\n",
      "  14603583568: TensorSpec(shape=(), dtype=tf.resource, name=None)\n",
      "  14603589520: TensorSpec(shape=(), dtype=tf.resource, name=None)\n",
      "  14603589904: TensorSpec(shape=(), dtype=tf.resource, name=None)\n",
      "  14603590288: TensorSpec(shape=(), dtype=tf.resource, name=None)\n",
      "  14603590096: TensorSpec(shape=(), dtype=tf.resource, name=None)\n",
      "  14603585296: TensorSpec(shape=(), dtype=tf.resource, name=None)\n",
      "  14603591440: TensorSpec(shape=(), dtype=tf.resource, name=None)\n",
      "  14603591824: TensorSpec(shape=(), dtype=tf.resource, name=None)\n",
      "  14603592208: TensorSpec(shape=(), dtype=tf.resource, name=None)\n",
      "  14603592016: TensorSpec(shape=(), dtype=tf.resource, name=None)\n",
      "  14603587216: TensorSpec(shape=(), dtype=tf.resource, name=None)\n",
      "  14603593360: TensorSpec(shape=(), dtype=tf.resource, name=None)\n",
      "  14603593744: TensorSpec(shape=(), dtype=tf.resource, name=None)\n",
      "  14603594128: TensorSpec(shape=(), dtype=tf.resource, name=None)\n",
      "  14603593936: TensorSpec(shape=(), dtype=tf.resource, name=None)\n",
      "  14603589136: TensorSpec(shape=(), dtype=tf.resource, name=None)\n",
      "  14603595280: TensorSpec(shape=(), dtype=tf.resource, name=None)\n",
      "  14603595664: TensorSpec(shape=(), dtype=tf.resource, name=None)\n",
      "  14603596048: TensorSpec(shape=(), dtype=tf.resource, name=None)\n",
      "  14603595856: TensorSpec(shape=(), dtype=tf.resource, name=None)\n",
      "  14603591056: TensorSpec(shape=(), dtype=tf.resource, name=None)\n",
      "  14603597200: TensorSpec(shape=(), dtype=tf.resource, name=None)\n",
      "  14603597584: TensorSpec(shape=(), dtype=tf.resource, name=None)\n",
      "  14603597968: TensorSpec(shape=(), dtype=tf.resource, name=None)\n",
      "  14603597776: TensorSpec(shape=(), dtype=tf.resource, name=None)\n",
      "  14603592976: TensorSpec(shape=(), dtype=tf.resource, name=None)\n",
      "  14603599120: TensorSpec(shape=(), dtype=tf.resource, name=None)\n",
      "  14603599696: TensorSpec(shape=(), dtype=tf.resource, name=None)\n",
      "  14603598352: TensorSpec(shape=(), dtype=tf.resource, name=None)\n",
      "  14603599504: TensorSpec(shape=(), dtype=tf.resource, name=None)\n",
      "  14603596816: TensorSpec(shape=(), dtype=tf.resource, name=None)\n",
      "  14604042512: TensorSpec(shape=(), dtype=tf.resource, name=None)\n",
      "  14604043856: TensorSpec(shape=(), dtype=tf.resource, name=None)\n",
      "  14604044240: TensorSpec(shape=(), dtype=tf.resource, name=None)\n",
      "  14604044048: TensorSpec(shape=(), dtype=tf.resource, name=None)\n",
      "  14604043472: TensorSpec(shape=(), dtype=tf.resource, name=None)\n",
      "  14604045392: TensorSpec(shape=(), dtype=tf.resource, name=None)\n",
      "  14604045776: TensorSpec(shape=(), dtype=tf.resource, name=None)\n",
      "  14604046160: TensorSpec(shape=(), dtype=tf.resource, name=None)\n",
      "  14604045968: TensorSpec(shape=(), dtype=tf.resource, name=None)\n",
      "  14604042704: TensorSpec(shape=(), dtype=tf.resource, name=None)\n",
      "  14604047312: TensorSpec(shape=(), dtype=tf.resource, name=None)\n",
      "  14604047696: TensorSpec(shape=(), dtype=tf.resource, name=None)\n",
      "  14604048080: TensorSpec(shape=(), dtype=tf.resource, name=None)\n",
      "  14604047888: TensorSpec(shape=(), dtype=tf.resource, name=None)\n",
      "  14604042896: TensorSpec(shape=(), dtype=tf.resource, name=None)\n",
      "  14604049232: TensorSpec(shape=(), dtype=tf.resource, name=None)\n",
      "  14604049616: TensorSpec(shape=(), dtype=tf.resource, name=None)\n",
      "  14604050000: TensorSpec(shape=(), dtype=tf.resource, name=None)\n",
      "  14604049808: TensorSpec(shape=(), dtype=tf.resource, name=None)\n",
      "  14604045008: TensorSpec(shape=(), dtype=tf.resource, name=None)\n",
      "  14604051152: TensorSpec(shape=(), dtype=tf.resource, name=None)\n",
      "  14604051536: TensorSpec(shape=(), dtype=tf.resource, name=None)\n",
      "  14604051920: TensorSpec(shape=(), dtype=tf.resource, name=None)\n",
      "  14604051728: TensorSpec(shape=(), dtype=tf.resource, name=None)\n",
      "  14604046928: TensorSpec(shape=(), dtype=tf.resource, name=None)\n",
      "  14604053072: TensorSpec(shape=(), dtype=tf.resource, name=None)\n",
      "  14604053456: TensorSpec(shape=(), dtype=tf.resource, name=None)\n",
      "  14604053840: TensorSpec(shape=(), dtype=tf.resource, name=None)\n",
      "  14604053648: TensorSpec(shape=(), dtype=tf.resource, name=None)\n",
      "  14604048848: TensorSpec(shape=(), dtype=tf.resource, name=None)\n",
      "  14604054992: TensorSpec(shape=(), dtype=tf.resource, name=None)\n",
      "  14604055376: TensorSpec(shape=(), dtype=tf.resource, name=None)\n",
      "  14604055760: TensorSpec(shape=(), dtype=tf.resource, name=None)\n",
      "  14604055568: TensorSpec(shape=(), dtype=tf.resource, name=None)\n",
      "  14604050768: TensorSpec(shape=(), dtype=tf.resource, name=None)\n",
      "  14604043088: TensorSpec(shape=(), dtype=tf.resource, name=None)\n",
      "  14604058064: TensorSpec(shape=(), dtype=tf.resource, name=None)\n"
     ]
    }
   ],
   "source": [
    "export_path = pathlib.Path(export_dir)\n",
    "inference_model.export(str(export_path))"
   ]
  },
  {
   "cell_type": "code",
   "execution_count": 9,
   "metadata": {},
   "outputs": [],
   "source": [
    "converter = tf.lite.TFLiteConverter.from_saved_model(str(export_path))"
   ]
  },
  {
   "cell_type": "code",
   "execution_count": 10,
   "metadata": {},
   "outputs": [],
   "source": [
    "converter.optimizations = [tf.lite.Optimize.DEFAULT] # Оптимизатор (?)"
   ]
  },
  {
   "cell_type": "code",
   "execution_count": 11,
   "metadata": {},
   "outputs": [
    {
     "name": "stderr",
     "output_type": "stream",
     "text": [
      "WARNING: All log messages before absl::InitializeLog() is called are written to STDERR\n",
      "W0000 00:00:1744214197.693206 7837087 tf_tfl_flatbuffer_helpers.cc:390] Ignored output_format.\n",
      "W0000 00:00:1744214197.693220 7837087 tf_tfl_flatbuffer_helpers.cc:393] Ignored drop_control_dependency.\n",
      "2025-04-09 18:56:37.693766: I tensorflow/cc/saved_model/reader.cc:83] Reading SavedModel from: temp_dir\n",
      "2025-04-09 18:56:37.699837: I tensorflow/cc/saved_model/reader.cc:51] Reading meta graph with tags { serve }\n",
      "2025-04-09 18:56:37.699848: I tensorflow/cc/saved_model/reader.cc:146] Reading SavedModel debug info (if present) from: temp_dir\n",
      "2025-04-09 18:56:37.804465: I tensorflow/compiler/mlir/mlir_graph_optimization_pass.cc:388] MLIR V1 optimization pass is not enabled\n",
      "2025-04-09 18:56:37.817727: I tensorflow/cc/saved_model/loader.cc:234] Restoring SavedModel bundle.\n",
      "2025-04-09 18:56:38.230834: I tensorflow/cc/saved_model/loader.cc:218] Running initialization op on SavedModel bundle at path: temp_dir\n",
      "2025-04-09 18:56:38.346776: I tensorflow/cc/saved_model/loader.cc:317] SavedModel load for tags { serve }; Status: success: OK. Took 653011 microseconds.\n",
      "2025-04-09 18:56:38.425792: I tensorflow/compiler/mlir/tensorflow/utils/dump_mlir_util.cc:268] disabling MLIR crash reproducer, set env var `MLIR_CRASH_REPRODUCER_DIRECTORY` to enable.\n"
     ]
    }
   ],
   "source": [
    "tflite_model = None\n",
    "tflite_model = converter.convert()"
   ]
  },
  {
   "cell_type": "code",
   "execution_count": 12,
   "metadata": {},
   "outputs": [
    {
     "name": "stdout",
     "output_type": "stream",
     "text": [
      "Временная папка экспорта удалена: temp_dir\n"
     ]
    }
   ],
   "source": [
    "shutil.rmtree(export_path)\n",
    "print(f\"Временная папка экспорта удалена: {export_dir}\")"
   ]
  },
  {
   "cell_type": "code",
   "execution_count": 13,
   "metadata": {},
   "outputs": [
    {
     "name": "stdout",
     "output_type": "stream",
     "text": [
      "Модель TFLite успешно сохранена в файл: modelv4.1.tflite\n",
      "Размер файла TFLite: 2.40 MB\n"
     ]
    }
   ],
   "source": [
    "if tflite_model:\n",
    "    tflite_model_path = pathlib.Path(tflite_model_filename)\n",
    "    with open(tflite_model_path, 'wb') as f:\n",
    "        f.write(tflite_model)\n",
    "    print(f\"Модель TFLite успешно сохранена в файл: {tflite_model_path}\")\n",
    "    file_size = tflite_model_path.stat().st_size / (1024 * 1024)\n",
    "    print(f\"Размер файла TFLite: {file_size:.2f} MB\")"
   ]
  }
 ],
 "metadata": {
  "kernelspec": {
   "display_name": "my-env",
   "language": "python",
   "name": "python3"
  },
  "language_info": {
   "codemirror_mode": {
    "name": "ipython",
    "version": 3
   },
   "file_extension": ".py",
   "mimetype": "text/x-python",
   "name": "python",
   "nbconvert_exporter": "python",
   "pygments_lexer": "ipython3",
   "version": "3.12.9"
  }
 },
 "nbformat": 4,
 "nbformat_minor": 2
}
